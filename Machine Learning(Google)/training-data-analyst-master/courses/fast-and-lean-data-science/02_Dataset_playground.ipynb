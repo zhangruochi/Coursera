{
  "nbformat": 4,
  "nbformat_minor": 0,
  "metadata": {
    "colab": {
      "name": "Fun with tf.data.Dataset (playground).ipynb",
      "version": "0.3.2",
      "provenance": [],
      "collapsed_sections": [],
      "include_colab_link": true
    },
    "kernelspec": {
      "name": "python3",
      "display_name": "Python 3"
    }
  },
  "cells": [
    {
      "cell_type": "markdown",
      "metadata": {
        "id": "view-in-github",
        "colab_type": "text"
      },
      "source": [
        "<a href=\"https://colab.research.google.com/github/GoogleCloudPlatform/training-data-analyst/blob/master/courses/fast-and-lean-data-science/02_Dataset_playground.ipynb\" target=\"_parent\"><img src=\"https://colab.research.google.com/assets/colab-badge.svg\" alt=\"Open In Colab\"/></a>"
      ]
    },
    {
      "metadata": {
        "id": "89B27-TGiDNB",
        "colab_type": "text"
      },
      "cell_type": "markdown",
      "source": [
        "## Imports"
      ]
    },
    {
      "metadata": {
        "id": "U6rgexPXmY37",
        "colab_type": "code",
        "colab": {}
      },
      "cell_type": "code",
      "source": [
        "import os, math\n",
        "import numpy as np\n",
        "from matplotlib import pyplot as plt\n",
        "os.environ['GCS_READ_CACHE_MAX_SIZE_MB'] = '1' # Little wrinkle: this hack is needed to work around a Colab/GCS cache OOM bug\n",
        "import tensorflow as tf\n",
        "tf.enable_eager_execution()"
      ],
      "execution_count": 0,
      "outputs": []
    },
    {
      "metadata": {
        "id": "MSDlLsAZh_se",
        "colab_type": "text"
      },
      "cell_type": "markdown",
      "source": [
        "## Colab auth"
      ]
    },
    {
      "metadata": {
        "id": "5gAaIXGJmRuU",
        "colab_type": "code",
        "colab": {}
      },
      "cell_type": "code",
      "source": [
        "from google.colab import auth\n",
        "auth.authenticate_user()\n",
        "# Little wrinkle: without auth, Colab will be extremely slow in accessing data from a GCS bucket, even public"
      ],
      "execution_count": 0,
      "outputs": []
    },
    {
      "metadata": {
        "id": "MPkvHdAYNt9J",
        "colab_type": "code",
        "cellView": "form",
        "colab": {}
      },
      "cell_type": "code",
      "source": [
        "#@title \"display utilities [RUN ME]\"\n",
        "def display_9_images_from_dataset(dataset):\n",
        "  plt.figure(figsize=(13,13))\n",
        "  subplot=331\n",
        "  for i, (image, label, one_hot_label) in enumerate(dataset):\n",
        "    plt.subplot(subplot)\n",
        "    plt.axis('off')\n",
        "    plt.imshow(image.numpy().astype(np.uint8))\n",
        "    plt.title(label.numpy().decode(\"utf-8\") + ' ' + str(one_hot_label.numpy()), fontsize=16)\n",
        "    subplot += 1\n",
        "    if i==8:\n",
        "      break\n",
        "  plt.tight_layout()\n",
        "  plt.subplots_adjust(wspace=0.1, hspace=0.1)\n",
        "  plt.show()"
      ],
      "execution_count": 0,
      "outputs": []
    },
    {
      "metadata": {
        "id": "w9S3uKC_iXY5",
        "colab_type": "text"
      },
      "cell_type": "markdown",
      "source": [
        "## Configuration"
      ]
    },
    {
      "metadata": {
        "id": "d8K6hL_kiWve",
        "colab_type": "code",
        "colab": {}
      },
      "cell_type": "code",
      "source": [
        "GCS_PATTERN = 'gs://flowers-public/*/*.jpg'\n",
        "CLASSES = [b'daisy', b'dandelion', b'roses', b'sunflowers', b'tulips'] # flower labels (folder names in the data)"
      ],
      "execution_count": 0,
      "outputs": []
    },
    {
      "metadata": {
        "id": "kvPXiovhi3ZZ",
        "colab_type": "text"
      },
      "cell_type": "markdown",
      "source": [
        "## Read images and labels [WORK REQUIRED]\n",
        "1. Use `fileset=`[`tf.data.Dataset.list_files`](https://www.tensorflow.org/api_docs/python/tf/data/Dataset#list_files) to scan the data folder\n",
        "1. Iterate through the dataset of filenames: `for filename in fileset:...` . \n",
        " * Does it work ?\n",
        " * No! But Python iteration though a Dataset works in eager mode. Enable eager mode in the first cell, restart the runtime and try again.\n",
        " * tip: to limit the size of the dataset for display, you can use [`Dataset.take()`](https://www.tensorflow.org/api_docs/python/tf/data/Dataset#take). Like this: `for data in dataset.take(10): ....`\n",
        " * It works but why are Tensors returned ? Get proper values by applyting .numpy() to the tensors.\n",
        "1. Use [`tf.data.Dataset.map`](https://www.tensorflow.org/api_docs/python/tf/data/Dataset#map) to decode the JPEG files. You will find useful TF code snippets below.\n",
        " * Iterate on the image dataset. You can use .numpy().shape to only see the data sizes.\n",
        "  * Are all images of the same size ?\n",
        "1. Now create a training dataset: you have images but you also need labels:\n",
        " *  the labels (flower names) are the directory names. You will find useful TF code snippets below for parsing them.\n",
        " * If you do \"`return image, label`\" in the decoding function. You will have a Dataset of pairs (image, label).\n",
        " * The function  `decode_jpeg_and_label` in the snippets below adds a third value: the one-hot encoded label. It will be useful for training.\n",
        "1. Look at the flowers with the `display_9_images_from_dataset` function. It expects the Dataset to have `(image, label, one_hot_label)` elements.\n",
        "1. Code for iterating on a dataset in non-eager mode is also provided in the snippets below. Have a look, it is a bit more complex..."
      ]
    },
    {
      "metadata": {
        "id": "nwsZ8X59mu24",
        "colab_type": "code",
        "outputId": "bdec34e4-c17e-4d75-c445-a831bdc4ace8",
        "colab": {
          "base_uri": "https://localhost:8080/",
          "height": 34
        }
      },
      "cell_type": "code",
      "source": [
        "nb_images = len(tf.gfile.Glob(GCS_PATTERN))\n",
        "print(\"Pattern matches {} images.\".format(nb_images))\n",
        "\n",
        "#\n",
        "# YOUR CODE GOES HERE\n",
        "#\n",
        "\n",
        "\n",
        "#display_9_images_from_dataset(dataset)"
      ],
      "execution_count": 0,
      "outputs": [
        {
          "output_type": "stream",
          "text": [
            "Pattern matches 3670 images.\n"
          ],
          "name": "stdout"
        }
      ]
    },
    {
      "metadata": {
        "id": "ZX6Vg0YZwRCP",
        "colab_type": "text"
      },
      "cell_type": "markdown",
      "source": [
        "## Useful code snippets"
      ]
    },
    {
      "metadata": {
        "id": "FszNm593wnky",
        "colab_type": "text"
      },
      "cell_type": "markdown",
      "source": [
        "### Decode a JPEG in Tensorflow"
      ]
    },
    {
      "metadata": {
        "id": "pmPz2WM2wTbS",
        "colab_type": "code",
        "colab": {}
      },
      "cell_type": "code",
      "source": [
        "def decode_jpeg(filename):\n",
        "  bits = tf.read_file(filename)\n",
        "  image = tf.image.decode_jpeg(bits)\n",
        "  return image"
      ],
      "execution_count": 0,
      "outputs": []
    },
    {
      "metadata": {
        "id": "Dax9B6W7wuxt",
        "colab_type": "text"
      },
      "cell_type": "markdown",
      "source": [
        "### Decode a JPEG and extract folder name in TF"
      ]
    },
    {
      "metadata": {
        "id": "kPhQl3BlxB7D",
        "colab_type": "code",
        "colab": {}
      },
      "cell_type": "code",
      "source": [
        "def decode_jpeg_and_label(filename):\n",
        "  bits = tf.read_file(filename)\n",
        "  image = tf.image.decode_jpeg(bits)\n",
        "  label = tf.strings.split(tf.expand_dims(filename, axis=-1), sep='/')\n",
        "  label = label.values[-2]\n",
        "  one_hot_label = tf.tile(tf.expand_dims(label, axis=-1), [len(CLASSES)])\n",
        "  one_hot_label = tf.cast(tf.math.equal(one_hot_label, CLASSES), tf.uint8)\n",
        "  return image, label, one_hot_label"
      ],
      "execution_count": 0,
      "outputs": []
    },
    {
      "metadata": {
        "id": "fG9ctQ84wWHo",
        "colab_type": "text"
      },
      "cell_type": "markdown",
      "source": [
        "### Read from dataset in non-eager mode"
      ]
    },
    {
      "metadata": {
        "id": "lkegOfvWMrxb",
        "colab_type": "code",
        "colab": {}
      },
      "cell_type": "code",
      "source": [
        "assert not tf.executing_eagerly(), \"This cell will only work in non-eager mode\"\n",
        "\n",
        "next_data_item = dataset.make_one_shot_iterator().get_next()\n",
        "with tf.Session() as ses:\n",
        "  while True:\n",
        "    try:\n",
        "      image, label, one_hot_label = ses.run(next_data_item)\n",
        "      # ses.run returns numpy data\n",
        "      print(image.shape, label, one_hot_label)\n",
        "    except tf.errors.OutOfRangeError:\n",
        "      print(\"the end\")\n",
        "      break;"
      ],
      "execution_count": 0,
      "outputs": []
    }
  ]
}