{
 "cells": [
  {
   "cell_type": "markdown",
   "metadata": {
    "colab_type": "text",
    "id": "lrMvQQWyERJO"
   },
   "source": [
    "# Reinforcement Learning on Google Cloud"
   ]
  },
  {
   "cell_type": "markdown",
   "metadata": {
    "colab_type": "text",
    "id": "gVBectdeERJQ"
   },
   "source": [
    "Ran from datalab. You can do this from cloud using `datalab create ...` Or here are steps to get datalab running locally:\n",
    "\n",
    "1. `sudo docker run -it -p \"127.0.0.1:8081:8080\" -v \"${HOME}:/content\"      -e \"PROJECT_ID=[YOUR_PROJECT_ID]\"  gcr.io/cloud-datalab/datalab:local`\n",
    "2. Click user image at top right of datalab, and login to you GCP account. Gives you authentification for everything :)"
   ]
  },
  {
   "cell_type": "code",
   "execution_count": 1,
   "metadata": {
    "colab": {},
    "colab_type": "code",
    "id": "Bu4uzvS0ERJT"
   },
   "outputs": [
    {
     "name": "stdout",
     "output_type": "stream",
     "text": [
      "Reading package lists...\n",
      "Requirement already satisfied: gym in /usr/local/google/home/praneetdutta/.virtualenvs/rl-blog/lib/python2.7/site-packages (0.10.5)\n",
      "Requirement already satisfied: requests>=2.0 in /usr/local/google/home/praneetdutta/.virtualenvs/rl-blog/lib/python2.7/site-packages (from gym) (2.19.1)\n",
      "Requirement already satisfied: six in /usr/local/google/home/praneetdutta/.virtualenvs/rl-blog/lib/python2.7/site-packages (from gym) (1.11.0)\n",
      "Requirement already satisfied: numpy>=1.10.4 in /usr/local/google/home/praneetdutta/.virtualenvs/rl-blog/lib/python2.7/site-packages (from gym) (1.14.5)\n",
      "Requirement already satisfied: pyglet>=1.2.0 in /usr/local/google/home/praneetdutta/.virtualenvs/rl-blog/lib/python2.7/site-packages (from gym) (1.3.2)\n",
      "Requirement already satisfied: idna<2.8,>=2.5 in /usr/local/google/home/praneetdutta/.virtualenvs/rl-blog/lib/python2.7/site-packages (from requests>=2.0->gym) (2.7)\n",
      "Requirement already satisfied: urllib3<1.24,>=1.21.1 in /usr/local/google/home/praneetdutta/.virtualenvs/rl-blog/lib/python2.7/site-packages (from requests>=2.0->gym) (1.23)\n",
      "Requirement already satisfied: chardet<3.1.0,>=3.0.2 in /usr/local/google/home/praneetdutta/.virtualenvs/rl-blog/lib/python2.7/site-packages (from requests>=2.0->gym) (3.0.4)\n",
      "Requirement already satisfied: certifi>=2017.4.17 in /usr/local/google/home/praneetdutta/.virtualenvs/rl-blog/lib/python2.7/site-packages (from requests>=2.0->gym) (2018.8.24)\n",
      "Requirement already satisfied: future in /usr/local/google/home/praneetdutta/.virtualenvs/rl-blog/lib/python2.7/site-packages (from pyglet>=1.2.0->gym) (0.16.0)\n",
      "Requirement already satisfied: gym[atari] in /usr/local/google/home/praneetdutta/.virtualenvs/rl-blog/lib/python2.7/site-packages (0.10.5)\n",
      "Requirement already satisfied: requests>=2.0 in /usr/local/google/home/praneetdutta/.virtualenvs/rl-blog/lib/python2.7/site-packages (from gym[atari]) (2.19.1)\n",
      "Requirement already satisfied: six in /usr/local/google/home/praneetdutta/.virtualenvs/rl-blog/lib/python2.7/site-packages (from gym[atari]) (1.11.0)\n",
      "Requirement already satisfied: numpy>=1.10.4 in /usr/local/google/home/praneetdutta/.virtualenvs/rl-blog/lib/python2.7/site-packages (from gym[atari]) (1.14.5)\n",
      "Requirement already satisfied: pyglet>=1.2.0 in /usr/local/google/home/praneetdutta/.virtualenvs/rl-blog/lib/python2.7/site-packages (from gym[atari]) (1.3.2)\n",
      "Requirement already satisfied: atari-py>=0.1.1; extra == \"atari\" in /usr/local/google/home/praneetdutta/.virtualenvs/rl-blog/lib/python2.7/site-packages (from gym[atari]) (0.1.6)\n",
      "Requirement already satisfied: PyOpenGL; extra == \"atari\" in /usr/local/google/home/praneetdutta/.virtualenvs/rl-blog/lib/python2.7/site-packages (from gym[atari]) (3.1.0)\n",
      "Requirement already satisfied: Pillow; extra == \"atari\" in /usr/local/google/home/praneetdutta/.virtualenvs/rl-blog/lib/python2.7/site-packages (from gym[atari]) (5.3.0)\n",
      "Requirement already satisfied: idna<2.8,>=2.5 in /usr/local/google/home/praneetdutta/.virtualenvs/rl-blog/lib/python2.7/site-packages (from requests>=2.0->gym[atari]) (2.7)\n",
      "Requirement already satisfied: urllib3<1.24,>=1.21.1 in /usr/local/google/home/praneetdutta/.virtualenvs/rl-blog/lib/python2.7/site-packages (from requests>=2.0->gym[atari]) (1.23)\n",
      "Requirement already satisfied: chardet<3.1.0,>=3.0.2 in /usr/local/google/home/praneetdutta/.virtualenvs/rl-blog/lib/python2.7/site-packages (from requests>=2.0->gym[atari]) (3.0.4)\n",
      "Requirement already satisfied: certifi>=2017.4.17 in /usr/local/google/home/praneetdutta/.virtualenvs/rl-blog/lib/python2.7/site-packages (from requests>=2.0->gym[atari]) (2018.8.24)\n",
      "Requirement already satisfied: future in /usr/local/google/home/praneetdutta/.virtualenvs/rl-blog/lib/python2.7/site-packages (from pyglet>=1.2.0->gym[atari]) (0.16.0)\n",
      "Requirement already satisfied: opencv-python in /usr/local/google/home/praneetdutta/.virtualenvs/rl-blog/lib/python2.7/site-packages (3.4.3.18)\n",
      "Requirement already satisfied: numpy>=1.11.1 in /usr/local/google/home/praneetdutta/.virtualenvs/rl-blog/lib/python2.7/site-packages (from opencv-python) (1.14.5)\n",
      "Reading package lists...\n",
      "Requirement already satisfied: keras in /usr/local/google/home/praneetdutta/.virtualenvs/rl-blog/lib/python2.7/site-packages (2.2.4)\n",
      "Requirement already satisfied: keras-applications>=1.0.6 in /usr/local/google/home/praneetdutta/.virtualenvs/rl-blog/lib/python2.7/site-packages (from keras) (1.0.6)\n",
      "Requirement already satisfied: h5py in /usr/local/google/home/praneetdutta/.virtualenvs/rl-blog/lib/python2.7/site-packages (from keras) (2.8.0)\n",
      "Requirement already satisfied: pyyaml in /usr/local/google/home/praneetdutta/.virtualenvs/rl-blog/lib/python2.7/site-packages (from keras) (3.13)\n",
      "Requirement already satisfied: scipy>=0.14 in /usr/local/google/home/praneetdutta/.virtualenvs/rl-blog/lib/python2.7/site-packages (from keras) (1.1.0)\n",
      "Requirement already satisfied: numpy>=1.9.1 in /usr/local/google/home/praneetdutta/.virtualenvs/rl-blog/lib/python2.7/site-packages (from keras) (1.14.5)\n",
      "Requirement already satisfied: keras-preprocessing>=1.0.5 in /usr/local/google/home/praneetdutta/.virtualenvs/rl-blog/lib/python2.7/site-packages (from keras) (1.0.5)\n",
      "Requirement already satisfied: six>=1.9.0 in /usr/local/google/home/praneetdutta/.virtualenvs/rl-blog/lib/python2.7/site-packages (from keras) (1.11.0)\n"
     ]
    },
    {
     "name": "stderr",
     "output_type": "stream",
     "text": [
      "E: Could not open lock file /var/lib/apt/lists/lock - open (13: Permission denied)\n",
      "E: Unable to lock directory /var/lib/apt/lists/\n",
      "W: Problem unlinking the file /var/cache/apt/pkgcache.bin - RemoveCaches (13: Permission denied)\n",
      "W: Problem unlinking the file /var/cache/apt/srcpkgcache.bin - RemoveCaches (13: Permission denied)\n",
      "E: Could not open lock file /var/lib/dpkg/lock - open (13: Permission denied)\n",
      "E: Unable to lock the administration directory (/var/lib/dpkg/), are you root?\n",
      "You are using pip version 18.0, however version 18.1 is available.\n",
      "You should consider upgrading via the 'pip install --upgrade pip' command.\n",
      "You are using pip version 18.0, however version 18.1 is available.\n",
      "You should consider upgrading via the 'pip install --upgrade pip' command.\n",
      "You are using pip version 18.0, however version 18.1 is available.\n",
      "You should consider upgrading via the 'pip install --upgrade pip' command.\n",
      "\n",
      "WARNING: apt does not have a stable CLI interface. Use with caution in scripts.\n",
      "\n",
      "E: Could not open lock file /var/lib/apt/lists/lock - open (13: Permission denied)\n",
      "E: Unable to lock directory /var/lib/apt/lists/\n",
      "W: Problem unlinking the file /var/cache/apt/pkgcache.bin - RemoveCaches (13: Permission denied)\n",
      "W: Problem unlinking the file /var/cache/apt/srcpkgcache.bin - RemoveCaches (13: Permission denied)\n",
      "E: Could not open lock file /var/lib/dpkg/lock - open (13: Permission denied)\n",
      "E: Unable to lock the administration directory (/var/lib/dpkg/), are you root?\n",
      "You are using pip version 18.0, however version 18.1 is available.\n",
      "You should consider upgrading via the 'pip install --upgrade pip' command.\n"
     ]
    }
   ],
   "source": [
    "%%bash\n",
    "# Install packages to test model locally.\n",
    "apt-get update\n",
    "apt-get install -y python-numpy python-dev cmake zlib1g-dev libjpeg-dev xvfb libav-tools xorg-dev python-opengl libboost-all-dev libsdl2-dev swig libffi-dev\n",
    "pip install gym\n",
    "pip install gym[atari]\n",
    "\n",
    "pip install opencv-python\n",
    "apt update && apt install -y libsm6 libxext6\n",
    "apt-get install -y libxrender-dev\n",
    "pip install keras"
   ]
  },
  {
   "cell_type": "markdown",
   "metadata": {
    "colab_type": "text",
    "id": "xXUHfA3wERJc"
   },
   "source": [
    "### First run locally to make sure everything is working."
   ]
  },
  {
   "cell_type": "code",
   "execution_count": null,
   "metadata": {
    "colab": {},
    "colab_type": "code",
    "id": "qv0uNGdyERJe"
   },
   "outputs": [],
   "source": [
    "%%bash\n",
    "rm -r rl_on_gcp/my_model\n",
    "gcloud ml-engine local train \\\n",
    "   --module-name=trainer.trainer \\\n",
    "   --package-path=${PWD}/rl_on_gcp/trainer \\\n",
    "   --\\\n",
    "   --steps=100000\\\n",
    "   --start_train=100\\\n",
    "   --buffer_size=100\\\n",
    "   --save_model=True\\\n",
    "   --model_dir='my_model'"
   ]
  },
  {
   "cell_type": "markdown",
   "metadata": {
    "colab_type": "text",
    "id": "kGfJDWD_ERJk"
   },
   "source": [
    "### Run on ML-Engine"
   ]
  },
  {
   "cell_type": "code",
   "execution_count": 6,
   "metadata": {
    "colab": {
     "height": 35
    },
    "colab_type": "code",
    "executionInfo": {
     "elapsed": 614,
     "status": "ok",
     "timestamp": 1541228915114,
     "user": {
      "displayName": "",
      "photoUrl": "",
      "userId": ""
     },
     "user_tz": -480
    },
    "id": "tUoQ0KY6ERJl",
    "outputId": "6bafd943-d322-4458-937c-f87c801e6ece"
   },
   "outputs": [
    {
     "name": "stdout",
     "output_type": "stream",
     "text": [
      "jobId: rl_breakout_181128_201455\n",
      "state: QUEUED\n"
     ]
    },
    {
     "name": "stderr",
     "output_type": "stream",
     "text": [
      "Job [rl_breakout_181128_201455] submitted successfully.\n",
      "Your job is still active. You may view the status of your job with the command\n",
      "\n",
      "  $ gcloud ml-engine jobs describe rl_breakout_181128_201455\n",
      "\n",
      "or continue streaming the logs with the command\n",
      "\n",
      "  $ gcloud ml-engine jobs stream-logs rl_breakout_181128_201455\n"
     ]
    }
   ],
   "source": [
    "%%bash\n",
    "JOBNAME=rl_breakout_$(date -u +%y%m%d_%H%M%S)\n",
    "REGION='us-central1'\n",
    "BUCKET='dqn-breakout'\n",
    "\n",
    "gcloud ml-engine jobs submit training $JOBNAME \\\n",
    "        --package-path=$PWD/rl_on_gcp/trainer \\\n",
    "        --module-name=trainer.trainer \\\n",
    "        --region=$REGION \\\n",
    "        --staging-bucket=gs://$BUCKET \\\n",
    "        --scale-tier=BASIC\\\n",
    "        --runtime-version=1.10 \\\n",
    "        --\\\n",
    "        --steps=2000000\\\n",
    "        --start_train=5000\\\n",
    "        --buffer_size=200000\\\n",
    "        --save_model=True\\\n",
    "        --model_dir='gs://dqn-breakout/models/'"
   ]
  },
  {
   "cell_type": "markdown",
   "metadata": {
    "colab_type": "text",
    "id": "89OHrHv-ERJo"
   },
   "source": [
    "#### TODO: why doesn't it use GPU?\n",
    "From logs using `BASIC_GPU`:\n",
    "\n",
    "```\n",
    " master-replica-0 | Processes:                                                       GPU Memory | I  master-replica-0\n",
    " master-replica-0 |  GPU       PID   Type   Process name                             Usage      | I  master-replica-0\n",
    " master-replica-0 |=============================================================================| I  master-replica-0\n",
    " master-replica-0 |  No running processes found                                                 | I  master-replica-0\n",
    "```"
   ]
  },
  {
   "cell_type": "markdown",
   "metadata": {
    "colab_type": "text",
    "id": "Rsq7_y-UERJp"
   },
   "source": [
    "Hyperparameter tuning"
   ]
  },
  {
   "cell_type": "code",
   "execution_count": 4,
   "metadata": {
    "colab": {
     "height": 35
    },
    "colab_type": "code",
    "executionInfo": {
     "elapsed": 482,
     "status": "ok",
     "timestamp": 1541231277590,
     "user": {
      "displayName": "",
      "photoUrl": "",
      "userId": ""
     },
     "user_tz": -480
    },
    "id": "BmKJiZJqERJr",
    "outputId": "7dacdb85-11b1-42b1-9c85-ec45d39ef5e9"
   },
   "outputs": [
    {
     "name": "stdout",
     "output_type": "stream",
     "text": [
      "Overwriting hyperparam.yaml\n"
     ]
    }
   ],
   "source": [
    "%%writefile hyperparam.yaml\n",
    "trainingInput:\n",
    "  scaleTier: BASIC\n",
    "  hyperparameters:\n",
    "    maxTrials: 40\n",
    "    maxParallelTrials: 5\n",
    "    enableTrialEarlyStopping: False\n",
    "    goal: MAXIMIZE    \n",
    "    hyperparameterMetricTag: reward\n",
    "    params:\n",
    "    - parameterName: update_target\n",
    "      type: INTEGER\n",
    "      minValue: 500\n",
    "      maxValue: 5000\n",
    "      scaleType: UNIT_LOG_SCALE\n",
    "    - parameterName: init_eta\n",
    "      type: DOUBLE\n",
    "      minValue: 0.8\n",
    "      maxValue: 0.95\n",
    "      scaleType: UNIT_LOG_SCALE\n",
    "    - parameterName: learning_rate\n",
    "      type: DOUBLE\n",
    "      minValue: 0.00001\n",
    "      maxValue: 0.001\n",
    "      scaleType: UNIT_LOG_SCALE\n",
    "    - parameterName: batch_size\n",
    "      type: DISCRETE\n",
    "      discreteValues:\n",
    "      - 4\n",
    "      - 16\n",
    "      - 32\n",
    "      - 64\n",
    "      - 128\n",
    "      - 256\n",
    "      - 512"
   ]
  },
  {
   "cell_type": "code",
   "execution_count": 5,
   "metadata": {
    "colab": {
     "height": 35
    },
    "colab_type": "code",
    "executionInfo": {
     "elapsed": 829,
     "status": "ok",
     "timestamp": 1541227563993,
     "user": {
      "displayName": "",
      "photoUrl": "",
      "userId": ""
     },
     "user_tz": -480
    },
    "id": "5xTZ1n1sERJz",
    "outputId": "d82ac7e6-1b6a-42d5-de88-20dc26d3d75e"
   },
   "outputs": [
    {
     "name": "stdout",
     "output_type": "stream",
     "text": [
      "jobId: rl_breakout_hp_181128_175711\n",
      "state: QUEUED\n"
     ]
    },
    {
     "name": "stderr",
     "output_type": "stream",
     "text": [
      "Job [rl_breakout_hp_181128_175711] submitted successfully.\n",
      "Your job is still active. You may view the status of your job with the command\n",
      "\n",
      "  $ gcloud ml-engine jobs describe rl_breakout_hp_181128_175711\n",
      "\n",
      "or continue streaming the logs with the command\n",
      "\n",
      "  $ gcloud ml-engine jobs stream-logs rl_breakout_hp_181128_175711\n"
     ]
    }
   ],
   "source": [
    "%%bash\n",
    "JOBNAME=rl_breakout_hp_$(date -u +%y%m%d_%H%M%S)\n",
    "REGION='us-central1'\n",
    "BUCKET='dqn-breakout'\n",
    "\n",
    "gcloud ml-engine jobs submit training $JOBNAME \\\n",
    "        --package-path=$PWD/rl_on_gcp/trainer \\\n",
    "        --module-name=trainer.trainer \\\n",
    "        --region=$REGION \\\n",
    "        --staging-bucket=gs://$BUCKET \\\n",
    "        --config=hyperparam.yaml \\\n",
    "        --runtime-version=1.10 \\\n",
    "        --\\\n",
    "        --steps=100000\\\n",
    "        --start_train=10000\\\n",
    "        --buffer_size=10000\\\n",
    "        --model_dir='gs://dqn-breakout/models/hp/'"
   ]
  },
  {
   "cell_type": "markdown",
   "metadata": {
    "colab_type": "text",
    "id": "JyiR1WHWERJ2"
   },
   "source": [
    "### Launch tensorboard\n",
    "Using `tensoboard --logdir='gs://dqn-breakout/models/'` or within datalab:"
   ]
  },
  {
   "cell_type": "code",
   "execution_count": 0,
   "metadata": {
    "colab": {},
    "colab_type": "code",
    "collapsed": true,
    "id": "q3Kc0LWEERJ4"
   },
   "outputs": [],
   "source": [
    "from google.datalab.ml import TensorBoard as tb\n",
    "\n",
    "tb.start('gs://crawles-sandbox/rl_on_gcp/hp/4/')"
   ]
  },
  {
   "cell_type": "code",
   "execution_count": 1,
   "metadata": {
    "colab": {
     "height": 35
    },
    "colab_type": "code",
    "executionInfo": {
     "elapsed": 1800,
     "status": "ok",
     "timestamp": 1541227313789,
     "user": {
      "displayName": "",
      "photoUrl": "",
      "userId": ""
     },
     "user_tz": -480
    },
    "id": "hrg3zEuSERJ_",
    "outputId": "fd7422d1-958a-425a-9f0b-098b26e4344b"
   },
   "outputs": [
    {
     "name": "stdout",
     "output_type": "stream",
     "text": [
      "/bin/sh: gsutil: command not found\r\n"
     ]
    }
   ],
   "source": [
    "!gsutil ls  gs://crawles-sandbox/rl_on_gcp/hp/4/"
   ]
  },
  {
   "cell_type": "code",
   "execution_count": 0,
   "metadata": {
    "colab": {},
    "colab_type": "code",
    "collapsed": true,
    "id": "aouYf2MqTnMl"
   },
   "outputs": [],
   "source": []
  }
 ],
 "metadata": {
  "colab": {
   "collapsed_sections": [],
   "last_runtime": {
    "build_target": "//research/colab/notebook:notebook_backend",
    "kind": "private"
   },
   "name": "Reinforcement Learning on Google Cloud.ipynb",
   "provenance": [
    {
     "file_id": "/piper/depot/google3/experimental/users/crawles/rl_on_gcp/DQN_Breakout/Reinforcement Learning on Google Cloud.ipynb?workspaceId=crawles:rl_hp::citc",
     "timestamp": 1541226549803
    },
    {
     "file_id": "1Bmhq2_le_ym7swR9QRNEPfdJ_uB4n5v1",
     "timestamp": 1541223429558
    }
   ],
   "version": "0.3.2"
  },
  "kernelspec": {
   "display_name": "rl_on_gcp",
   "language": "python",
   "name": "rl_on_gcp"
  },
  "language_info": {
   "codemirror_mode": {
    "name": "ipython",
    "version": 2
   },
   "file_extension": ".py",
   "mimetype": "text/x-python",
   "name": "python",
   "nbconvert_exporter": "python",
   "pygments_lexer": "ipython2",
   "version": "2.7.13"
  }
 },
 "nbformat": 4,
 "nbformat_minor": 1
}
