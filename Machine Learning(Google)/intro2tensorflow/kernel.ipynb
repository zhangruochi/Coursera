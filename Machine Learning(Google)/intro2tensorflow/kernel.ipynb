{
  "cells": [
    {
      "metadata": {
        "_uuid": "8f2839f25d086af736a60e9eeb907d3b93b6e0e5",
        "_cell_guid": "b1076dfc-b9ad-4769-8c92-a6c4dae69d19",
        "trusted": true
      },
      "cell_type": "code",
      "source": "# This Python 3 environment comes with many helpful analytics libraries installed\n# It is defined by the kaggle/python docker image: https://github.com/kaggle/docker-python\n# For example, here's several helpful packages to load in \n\nimport numpy as np # linear algebra\nimport pandas as pd # data processing, CSV file I/O (e.g. pd.read_csv)\n\n# Input data files are available in the \"../input/\" directory.\n# For example, running this (by clicking run or pressing Shift+Enter) will list the files in the input directory\n\nimport os\nprint(os.listdir(\"../input\"))\nworking_dir = \"../input\"\n\n# Any results you write to the current directory are saved as output.",
      "execution_count": null,
      "outputs": []
    },
    {
      "metadata": {
        "_cell_guid": "79c7e3d0-c299-4dcb-8224-4455121ee9b0",
        "_uuid": "d629ff2d2480ee46fbb7e2d37f6b5fab8052498a",
        "trusted": true
      },
      "cell_type": "code",
      "source": "def load_csv(path):\n    csv_dataset = pd.read_csv(path,index_col=\"PetID\")\n    return csv_dataset\n\ndef map_name(name):\n    name = str(name).lower()\n    count = 0\n    if name.find(\"name\") >=0 or name.find(\"noname\") >=0 or name.find(\"nameless\") >=0 or name.find(\"no name\") >=0 or name.find(\"unname\") >=0 or name.find(\"to be name\") >=0 or name.find(\"found\") >= 0 or name.find(\"yet\") >=0 or name.find(\"name less\") >=0:\n        return 0\n    else:\n        return 1\n\ndef transfor_features(csv_dataset):\n    csv_dataset[\"Name\"] = csv_dataset[\"Name\"] .apply(map_name)\n    csv_dataset.drop([\"RescuerID\",\"Description\"],axis = 1, inplace=True)\n    return csv_dataset",
      "execution_count": null,
      "outputs": []
    },
    {
      "metadata": {
        "trusted": true,
        "_uuid": "0315073e93a9bf82ac82aed603171615edf9a7ab"
      },
      "cell_type": "code",
      "source": "def prapare_training_dataset(path):\n    csv_dataset = load_csv(path)\n    csv_dataset[\"Name\"].fillna(value = \"noname\", inplace = True)\n    csv_dataset = transfor_features(csv_dataset)\n    all_features = csv_dataset.iloc[:,0:-1]\n    labels = csv_dataset.iloc[:,-1]\n    return all_features, labels",
      "execution_count": null,
      "outputs": []
    },
    {
      "metadata": {
        "trusted": true,
        "_uuid": "a622f630fe5e5db4f10163a27b52bb7bb30af5ed"
      },
      "cell_type": "code",
      "source": "training_dataset = working_dir+\"/train/\"+\"train.csv\"\nall_features, labels = prapare_training_dataset(training_dataset)\nall_features.head(10)",
      "execution_count": null,
      "outputs": []
    },
    {
      "metadata": {
        "trusted": true,
        "_uuid": "f40ada9f05dfc2f12ccf06c144e19604d7a91f01"
      },
      "cell_type": "code",
      "source": "def prapare_testing_dataset(path):\n    csv_dataset = load_csv(path)\n    csv_dataset[\"Name\"].fillna(value = \"noname\", inplace = True)\n    csv_dataset = transfor_features(csv_dataset)\n    return csv_dataset",
      "execution_count": null,
      "outputs": []
    },
    {
      "metadata": {
        "trusted": true,
        "_uuid": "6363c4c2aa4db347999f72d1e3e39f496cd4a71b"
      },
      "cell_type": "code",
      "source": "test_path = working_dir + \"/test\" + \"/test.csv\"\ntest_dataset = prapare_testing_dataset(test_path)\ntest_dataset.head()",
      "execution_count": null,
      "outputs": []
    },
    {
      "metadata": {
        "trusted": true,
        "_uuid": "08e266fa520abf10241236efdb58d6e478503bd0"
      },
      "cell_type": "code",
      "source": "from sklearn.multiclass import OneVsRestClassifier\nfrom sklearn.ensemble import RandomForestRegressor\nfrom sklearn.metrics import classification_report\n\nestimator = OneVsRestClassifier(RandomForestRegressor())\nestimator.fit(all_features,labels)",
      "execution_count": null,
      "outputs": []
    },
    {
      "metadata": {
        "trusted": true,
        "_uuid": "36fdf964d85c439aa83917bbff6011a9b19ca11d"
      },
      "cell_type": "code",
      "source": "pred_labels = estimator.predict(test_dataset)\noutput = pd.DataFrame(\n    data = { \"PetID\": test_dataset.index,\n            \"AdoptionSpeed\": pred_labels  \n            }\n)\noutput.head(10)",
      "execution_count": null,
      "outputs": []
    },
    {
      "metadata": {
        "trusted": true,
        "_uuid": "e746a05dd7a05bc70c931ed8740df167b5703f1b"
      },
      "cell_type": "code",
      "source": "output.to_csv(\"submit_one.csv\",index = False)",
      "execution_count": null,
      "outputs": []
    }
  ],
  "metadata": {
    "kernelspec": {
      "display_name": "Python 3",
      "language": "python",
      "name": "python3"
    },
    "language_info": {
      "name": "python",
      "version": "3.6.6",
      "mimetype": "text/x-python",
      "codemirror_mode": {
        "name": "ipython",
        "version": 3
      },
      "pygments_lexer": "ipython3",
      "nbconvert_exporter": "python",
      "file_extension": ".py"
    }
  },
  "nbformat": 4,
  "nbformat_minor": 1
}