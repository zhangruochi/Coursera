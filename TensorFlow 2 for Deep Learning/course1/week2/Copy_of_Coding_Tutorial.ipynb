{
  "nbformat": 4,
  "nbformat_minor": 0,
  "metadata": {
    "kernelspec": {
      "display_name": "Python 3",
      "language": "python",
      "name": "python3"
    },
    "language_info": {
      "codemirror_mode": {
        "name": "ipython",
        "version": 3
      },
      "file_extension": ".py",
      "mimetype": "text/x-python",
      "name": "python",
      "nbconvert_exporter": "python",
      "pygments_lexer": "ipython3",
      "version": "3.7.1"
    },
    "colab": {
      "name": "Copy of Coding Tutorial.ipynb",
      "provenance": [],
      "collapsed_sections": []
    }
  },
  "cells": [
    {
      "cell_type": "code",
      "metadata": {
        "id": "ri9xLCA7CJGy",
        "outputId": "c333b563-7a98-49fe-908e-af27abc8ade6",
        "colab": {
          "base_uri": "https://localhost:8080/",
          "height": 34
        }
      },
      "source": [
        "import tensorflow as tf\n",
        "print(tf.__version__)"
      ],
      "execution_count": 1,
      "outputs": [
        {
          "output_type": "stream",
          "text": [
            "2.3.0\n"
          ],
          "name": "stdout"
        }
      ]
    },
    {
      "cell_type": "markdown",
      "metadata": {
        "id": "D59Ale71CJG6"
      },
      "source": [
        "# The Sequential model API"
      ]
    },
    {
      "cell_type": "markdown",
      "metadata": {
        "id": "auWMRp5YCJG8"
      },
      "source": [
        " ## Coding tutorials\n",
        " #### [1. Building a Sequential model](#coding_tutorial_1)\n",
        " #### [2. Convolutional and pooling layers](#coding_tutorial_2)\n",
        " #### [3. The compile method](#coding_tutorial_3)\n",
        " #### [4. The fit method](#coding_tutorial_4)\n",
        " #### [5. The evaluate and predict methods](#coding_tutorial_5)"
      ]
    },
    {
      "cell_type": "markdown",
      "metadata": {
        "id": "d6ocyynECJG-"
      },
      "source": [
        "***\n",
        "<a id=\"coding_tutorial_1\"></a>\n",
        "## Building a Sequential model"
      ]
    },
    {
      "cell_type": "code",
      "metadata": {
        "id": "Ei4--EGmCJHA"
      },
      "source": [
        "from tensorflow.keras.models import Sequential\n",
        "from tensorflow.keras.layers import Dense, Flatten, Softmax"
      ],
      "execution_count": 2,
      "outputs": []
    },
    {
      "cell_type": "markdown",
      "metadata": {
        "id": "u3Yf9CXHCJHE"
      },
      "source": [
        "#### Build a feedforward neural network model"
      ]
    },
    {
      "cell_type": "code",
      "metadata": {
        "id": "XVg2fS25CJHF"
      },
      "source": [
        "# Build the Sequential feedforward neural network model\n",
        "model = Sequential([\n",
        "     Flatten(input_shape = (28,28)),\n",
        "     Dense(16, activation = \"relu\"),\n",
        "     Dense(16, activation=\"relu\"),\n",
        "     Dense(10, activation=\"softmax\")\n",
        "])\n"
      ],
      "execution_count": 6,
      "outputs": []
    },
    {
      "cell_type": "code",
      "metadata": {
        "id": "jYcN4Ca0CJHI",
        "outputId": "067e0c87-5c04-4e55-b03a-6bcd526cb1a3",
        "colab": {
          "base_uri": "https://localhost:8080/",
          "height": 1000
        }
      },
      "source": [
        "# Print the model summary\n",
        "\n",
        "model.weights"
      ],
      "execution_count": 7,
      "outputs": [
        {
          "output_type": "execute_result",
          "data": {
            "text/plain": [
              "[<tf.Variable 'dense_3/kernel:0' shape=(784, 16) dtype=float32, numpy=\n",
              " array([[ 0.05025466, -0.0207837 , -0.06298387, ..., -0.03100187,\n",
              "          0.08404948,  0.03033735],\n",
              "        [-0.0389953 ,  0.02397779, -0.02428557, ..., -0.04340558,\n",
              "         -0.01252683,  0.0701184 ],\n",
              "        [ 0.08295391, -0.03114393, -0.08406872, ..., -0.0357069 ,\n",
              "          0.06579848,  0.02252905],\n",
              "        ...,\n",
              "        [ 0.01422974, -0.04090094,  0.02063756, ..., -0.01177577,\n",
              "         -0.07692546,  0.06515574],\n",
              "        [-0.03422557, -0.0537113 , -0.04532356, ...,  0.06341343,\n",
              "         -0.01974009,  0.04031235],\n",
              "        [ 0.04238142, -0.03606697,  0.0021674 , ...,  0.06211889,\n",
              "          0.0486315 , -0.00042691]], dtype=float32)>,\n",
              " <tf.Variable 'dense_3/bias:0' shape=(16,) dtype=float32, numpy=\n",
              " array([0., 0., 0., 0., 0., 0., 0., 0., 0., 0., 0., 0., 0., 0., 0., 0.],\n",
              "       dtype=float32)>,\n",
              " <tf.Variable 'dense_4/kernel:0' shape=(16, 16) dtype=float32, numpy=\n",
              " array([[-0.24347961, -0.07459885, -0.36246133,  0.00541061,  0.29898033,\n",
              "          0.12463567, -0.0164122 ,  0.35735038,  0.20359096, -0.4171294 ,\n",
              "         -0.33718136,  0.20779821, -0.3667716 , -0.18234459, -0.35035363,\n",
              "         -0.08814514],\n",
              "        [-0.10464406, -0.14493248, -0.36900413, -0.2462338 , -0.01227161,\n",
              "         -0.32344425,  0.16654709, -0.2654897 ,  0.10969087,  0.2017354 ,\n",
              "          0.16812798, -0.40416554, -0.12264892,  0.07496575,  0.29749462,\n",
              "         -0.1479863 ],\n",
              "        [-0.18876633,  0.2547932 ,  0.2683749 ,  0.04469082,  0.11804637,\n",
              "         -0.23136853,  0.16864231, -0.3306057 , -0.02518311, -0.40101027,\n",
              "         -0.3850935 , -0.33038643,  0.34141973, -0.15675801,  0.29769263,\n",
              "          0.07463303],\n",
              "        [-0.38296163, -0.03352642, -0.05927476, -0.226509  , -0.31614852,\n",
              "          0.32320455, -0.23835218,  0.09506223,  0.30644825, -0.27902135,\n",
              "          0.14808652, -0.32995498, -0.09062061,  0.08196726, -0.3536526 ,\n",
              "         -0.1050691 ],\n",
              "        [ 0.25619122, -0.24632166,  0.3433933 , -0.04403958,  0.30161884,\n",
              "         -0.03910512, -0.06369573,  0.25158277,  0.30140308,  0.02055651,\n",
              "         -0.3921264 ,  0.3780671 ,  0.01512936,  0.02153581, -0.40770394,\n",
              "         -0.3007178 ],\n",
              "        [-0.11528102, -0.11348054,  0.30495223, -0.29850698,  0.2736741 ,\n",
              "         -0.04394501,  0.22036687, -0.2696408 , -0.25529742, -0.2937616 ,\n",
              "          0.09592953, -0.02037117,  0.11659482, -0.00908601, -0.2931772 ,\n",
              "          0.40714738],\n",
              "        [ 0.12548342,  0.25571844, -0.36096507, -0.21098651, -0.30707017,\n",
              "         -0.01005727, -0.16606009, -0.25194114, -0.17678335,  0.24306169,\n",
              "          0.4106383 ,  0.16960242,  0.24427298, -0.26225471,  0.4299591 ,\n",
              "         -0.11130965],\n",
              "        [ 0.344857  ,  0.4082959 ,  0.13774845, -0.14281529,  0.00702918,\n",
              "          0.4144301 ,  0.25435564, -0.12969318, -0.4183321 ,  0.18456897,\n",
              "         -0.33441252,  0.341436  ,  0.32486585,  0.28658864,  0.41625103,\n",
              "         -0.32784396],\n",
              "        [-0.41878253,  0.21493766,  0.20158204,  0.03741696,  0.1784176 ,\n",
              "         -0.21196696,  0.2581891 , -0.2424622 ,  0.37984118,  0.41600844,\n",
              "          0.24245086,  0.17147341, -0.4256395 , -0.17698094, -0.4167346 ,\n",
              "          0.3356522 ],\n",
              "        [ 0.34025034, -0.3150571 ,  0.43284896,  0.19836304,  0.25361857,\n",
              "         -0.17480808, -0.14933467, -0.3056724 , -0.27294165, -0.05160654,\n",
              "         -0.17764756, -0.07342637, -0.0418565 , -0.01565123,  0.15333524,\n",
              "          0.10073236],\n",
              "        [-0.03781751, -0.29080135,  0.09514204,  0.20588532, -0.22243068,\n",
              "          0.23178843,  0.14621386, -0.07700047, -0.25508028, -0.00877887,\n",
              "         -0.40926665, -0.19763863, -0.15264502, -0.35778967,  0.19337305,\n",
              "         -0.42119378],\n",
              "        [-0.13292837, -0.2291837 ,  0.39504102, -0.00563267, -0.09802949,\n",
              "          0.37730613,  0.08771136,  0.41809097, -0.32827467,  0.01838478,\n",
              "          0.01954558,  0.08325019,  0.3702009 ,  0.39948657, -0.4154977 ,\n",
              "          0.4212562 ],\n",
              "        [-0.39698666,  0.04488677,  0.1578184 , -0.10947439, -0.21762441,\n",
              "         -0.30808374,  0.18417636, -0.07292989,  0.24983725, -0.16242477,\n",
              "          0.13283578, -0.38533232,  0.35157606,  0.2979925 , -0.00191548,\n",
              "         -0.37212348],\n",
              "        [-0.33282346, -0.2609774 ,  0.09557614, -0.13309458, -0.39328063,\n",
              "         -0.01832634,  0.18194684, -0.41007665,  0.3674434 , -0.23829964,\n",
              "         -0.26218796, -0.14080122, -0.30406904, -0.34029493, -0.1871872 ,\n",
              "          0.13052621],\n",
              "        [ 0.12246642,  0.30780944,  0.35071632, -0.19525445,  0.01617971,\n",
              "         -0.27824378,  0.0956836 , -0.37794602,  0.00841349, -0.060251  ,\n",
              "         -0.31845516, -0.3324608 , -0.42246   , -0.06612298, -0.01525789,\n",
              "         -0.37291676],\n",
              "        [ 0.4195628 , -0.39335948,  0.41367492, -0.05375421, -0.38474065,\n",
              "          0.24526307,  0.3189083 ,  0.40642563,  0.14337113, -0.3532735 ,\n",
              "         -0.05657405, -0.1440754 , -0.16808388,  0.15254334,  0.22651145,\n",
              "          0.20285866]], dtype=float32)>,\n",
              " <tf.Variable 'dense_4/bias:0' shape=(16,) dtype=float32, numpy=\n",
              " array([0., 0., 0., 0., 0., 0., 0., 0., 0., 0., 0., 0., 0., 0., 0., 0.],\n",
              "       dtype=float32)>,\n",
              " <tf.Variable 'dense_5/kernel:0' shape=(16, 10) dtype=float32, numpy=\n",
              " array([[-0.47033906, -0.07601997,  0.4705674 ,  0.31309384, -0.15511021,\n",
              "          0.39175904, -0.47979096,  0.34058177, -0.38750026, -0.0312548 ],\n",
              "        [-0.3320444 ,  0.16891783, -0.14845037,  0.16862988, -0.4640811 ,\n",
              "          0.44702595,  0.03605545,  0.02654558,  0.23836416,  0.10321504],\n",
              "        [-0.14842826,  0.09525883, -0.3355044 , -0.06157076,  0.13255131,\n",
              "         -0.37697127,  0.4037639 ,  0.34796798, -0.2571608 , -0.38761675],\n",
              "        [ 0.07771266,  0.03308207,  0.20863944,  0.12261444, -0.10885337,\n",
              "         -0.08998528, -0.29603878,  0.39699548, -0.21287769, -0.46896982],\n",
              "        [ 0.18959194,  0.19717562,  0.26847333,  0.4403898 , -0.25405353,\n",
              "          0.41568798,  0.43231535,  0.22435063,  0.24632764,  0.02710217],\n",
              "        [-0.17537332,  0.27310133,  0.1522767 ,  0.36588407, -0.0661476 ,\n",
              "         -0.28807327,  0.45235455, -0.29127777, -0.08553466, -0.1177175 ],\n",
              "        [ 0.2713688 ,  0.47462463, -0.45556387,  0.40640992, -0.22759664,\n",
              "          0.39743173, -0.42408794,  0.17110562, -0.12852308, -0.07881343],\n",
              "        [ 0.28801763,  0.02635312, -0.0375495 ,  0.34335977,  0.25841528,\n",
              "          0.16242129, -0.12457079,  0.11233652,  0.31251472,  0.0341447 ],\n",
              "        [-0.4381514 , -0.12549174,  0.35245132,  0.19311821,  0.17123628,\n",
              "          0.44431806,  0.16221607,  0.10065341, -0.47355077,  0.15142226],\n",
              "        [-0.34474102,  0.19473541, -0.3391516 , -0.21770549, -0.36139017,\n",
              "          0.26364475,  0.46820462, -0.42139685,  0.31849647, -0.07635635],\n",
              "        [-0.01857731,  0.41032845, -0.3868053 ,  0.46613836,  0.46835214,\n",
              "         -0.25594768,  0.13556457, -0.37206644,  0.13014704,  0.21723592],\n",
              "        [-0.2650144 ,  0.09229308, -0.13494572,  0.05791867, -0.18086138,\n",
              "         -0.47767556,  0.01247868,  0.30418855,  0.29875422,  0.02195776],\n",
              "        [-0.01614588,  0.04633325,  0.26350933, -0.32038426,  0.46802527,\n",
              "          0.38610172, -0.14949355, -0.13803846,  0.21639693,  0.37214363],\n",
              "        [-0.1526078 ,  0.2868716 , -0.08562192,  0.08793354,  0.14138645,\n",
              "         -0.182158  ,  0.05639583,  0.1945399 ,  0.23185998, -0.134769  ],\n",
              "        [ 0.3225304 , -0.1939804 , -0.36129096, -0.1801222 , -0.30916077,\n",
              "         -0.11185825,  0.2804551 ,  0.07270187,  0.38431245,  0.29266614],\n",
              "        [-0.19242036,  0.26752317, -0.30168396, -0.43542242, -0.33825892,\n",
              "         -0.45295185,  0.46133244, -0.10836923, -0.29665887,  0.42183977]],\n",
              "       dtype=float32)>,\n",
              " <tf.Variable 'dense_5/bias:0' shape=(10,) dtype=float32, numpy=array([0., 0., 0., 0., 0., 0., 0., 0., 0., 0.], dtype=float32)>]"
            ]
          },
          "metadata": {
            "tags": []
          },
          "execution_count": 7
        }
      ]
    },
    {
      "cell_type": "markdown",
      "metadata": {
        "id": "8MJDGaU-CJHL"
      },
      "source": [
        "***\n",
        "<a id=\"coding_tutorial_2\"></a>\n",
        "## Convolutional and pooling layers"
      ]
    },
    {
      "cell_type": "code",
      "metadata": {
        "id": "d4DQWLKICJHM"
      },
      "source": [
        "from tensorflow.keras.models import Sequential\n",
        "from tensorflow.keras.layers import Dense, Flatten, Conv2D, MaxPooling2D"
      ],
      "execution_count": 59,
      "outputs": []
    },
    {
      "cell_type": "markdown",
      "metadata": {
        "id": "8jNBz3EDCJHO"
      },
      "source": [
        "#### Build a convolutional neural network model"
      ]
    },
    {
      "cell_type": "code",
      "metadata": {
        "id": "EeujLb1TCJHP"
      },
      "source": [
        "# Build the Sequential convolutional neural network model\n",
        "model = Sequential([\n",
        "      Conv2D(filters=16, activation=\"relu\", kernel_size=(3,3),input_shape = (28,28,1)),\n",
        "      MaxPooling2D(pool_size=(3,3)),\n",
        "      Flatten(),\n",
        "      Dense(10, activation=\"softmax\")  \n",
        "])\n"
      ],
      "execution_count": 66,
      "outputs": []
    },
    {
      "cell_type": "code",
      "metadata": {
        "id": "jtOPPraJCJHR",
        "outputId": "a8a2edc0-8997-4646-dd08-4bfd12631e29",
        "colab": {
          "base_uri": "https://localhost:8080/",
          "height": 289
        }
      },
      "source": [
        "# Print the model summary\n",
        "model.summary()"
      ],
      "execution_count": 67,
      "outputs": [
        {
          "output_type": "stream",
          "text": [
            "Model: \"sequential_5\"\n",
            "_________________________________________________________________\n",
            "Layer (type)                 Output Shape              Param #   \n",
            "=================================================================\n",
            "conv2d_4 (Conv2D)            (None, 26, 26, 16)        160       \n",
            "_________________________________________________________________\n",
            "max_pooling2d_3 (MaxPooling2 (None, 8, 8, 16)          0         \n",
            "_________________________________________________________________\n",
            "flatten_4 (Flatten)          (None, 1024)              0         \n",
            "_________________________________________________________________\n",
            "dense_9 (Dense)              (None, 10)                10250     \n",
            "=================================================================\n",
            "Total params: 10,410\n",
            "Trainable params: 10,410\n",
            "Non-trainable params: 0\n",
            "_________________________________________________________________\n"
          ],
          "name": "stdout"
        }
      ]
    },
    {
      "cell_type": "markdown",
      "metadata": {
        "id": "uRTSrWqdCJHT"
      },
      "source": [
        "***\n",
        "<a id=\"coding_tutorial_3\"></a>\n",
        "## The compile method"
      ]
    },
    {
      "cell_type": "markdown",
      "metadata": {
        "id": "bqILOf-2CJHT"
      },
      "source": [
        "#### Compile the model"
      ]
    },
    {
      "cell_type": "code",
      "metadata": {
        "id": "CvkXVYgJCJHU"
      },
      "source": [
        "# Define the model optimizer, loss function and metrics\n",
        "\n",
        "opt = tf.keras.optimizers.Adam(learning_rate = 0.005)\n",
        "acc = tf.keras.metrics.SparseCategoricalAccuracy()\n",
        "mae = tf.keras.metrics.MeanAbsoluteError()\n",
        "\n",
        "model.compile(\n",
        "    optimizer = opt,\n",
        "    loss = \"sparse_categorical_crossentropy\",\n",
        "    metrics = [acc,mae])"
      ],
      "execution_count": 68,
      "outputs": []
    },
    {
      "cell_type": "code",
      "metadata": {
        "id": "jt-nuYqoCJHW",
        "outputId": "ab1e0f62-781e-4640-bbe4-b731e06f4538",
        "colab": {
          "base_uri": "https://localhost:8080/",
          "height": 68
        }
      },
      "source": [
        "# Print the resulting model attributes\n",
        "\n",
        "print(model.loss)\n",
        "print(model.optimizer)\n",
        "print(model.metrics)"
      ],
      "execution_count": 70,
      "outputs": [
        {
          "output_type": "stream",
          "text": [
            "sparse_categorical_crossentropy\n",
            "<tensorflow.python.keras.optimizer_v2.adam.Adam object at 0x7f8fc693f208>\n",
            "[]\n"
          ],
          "name": "stdout"
        }
      ]
    },
    {
      "cell_type": "markdown",
      "metadata": {
        "id": "gX5gJUFFCJHY"
      },
      "source": [
        "***\n",
        "<a id=\"coding_tutorial_4\"></a>\n",
        "## The fit method"
      ]
    },
    {
      "cell_type": "code",
      "metadata": {
        "id": "VvQ4oqkVCJHY"
      },
      "source": [
        "from tensorflow.keras.preprocessing import image\n",
        "import matplotlib.pyplot as plt\n",
        "import numpy as np\n",
        "import pandas as pd"
      ],
      "execution_count": 71,
      "outputs": []
    },
    {
      "cell_type": "markdown",
      "metadata": {
        "id": "jZv_rFyMCJHa"
      },
      "source": [
        "#### Load the data"
      ]
    },
    {
      "cell_type": "code",
      "metadata": {
        "id": "WAuvQgLqCJHa"
      },
      "source": [
        "# Load the Fashion-MNIST dataset\n",
        "\n",
        "fashion_mnist_data = tf.keras.datasets.fashion_mnist\n",
        "(train_images, train_labels), (test_images, test_labels) = fashion_mnist_data.load_data()"
      ],
      "execution_count": 72,
      "outputs": []
    },
    {
      "cell_type": "code",
      "metadata": {
        "id": "vLQ088Y3CJHc",
        "outputId": "64bde93d-f3d2-448b-d96e-e732c7c6994f",
        "colab": {
          "base_uri": "https://localhost:8080/",
          "height": 34
        }
      },
      "source": [
        "# Print the shape of the training data\n",
        "train_images.shape, train_images[...,np.newaxis].shape\n"
      ],
      "execution_count": 73,
      "outputs": [
        {
          "output_type": "execute_result",
          "data": {
            "text/plain": [
              "((60000, 28, 28), (60000, 28, 28, 1))"
            ]
          },
          "metadata": {
            "tags": []
          },
          "execution_count": 73
        }
      ]
    },
    {
      "cell_type": "code",
      "metadata": {
        "id": "hxFJEUPwCJHe"
      },
      "source": [
        "# Define the labels\n",
        "\n",
        "labels = [\n",
        "    'T-shirt/top',\n",
        "    'Trouser',\n",
        "    'Pullover',\n",
        "    'Dress',\n",
        "    'Coat',\n",
        "    'Sandal',\n",
        "    'Shirt',\n",
        "    'Sneaker',\n",
        "    'Bag',\n",
        "    'Ankle boot'\n",
        "]"
      ],
      "execution_count": 74,
      "outputs": []
    },
    {
      "cell_type": "code",
      "metadata": {
        "id": "_xU8Sb5yCJHg"
      },
      "source": [
        "# Rescale the image values so that they lie in between 0 and 1.\n",
        "\n",
        "train_images = train_images / 255.0\n",
        "test_images = test_images / 255.0"
      ],
      "execution_count": 75,
      "outputs": []
    },
    {
      "cell_type": "code",
      "metadata": {
        "id": "d4unyGnSCJHh",
        "outputId": "268571e3-1999-4ab9-a43d-8d3aece0ca75",
        "colab": {
          "base_uri": "https://localhost:8080/",
          "height": 265
        }
      },
      "source": [
        "# Display one of the images\n",
        "i = 0\n",
        "img = train_images[i,:,:]\n",
        "plt.imshow(img)\n",
        "plt.show()"
      ],
      "execution_count": 76,
      "outputs": [
        {
          "output_type": "display_data",
          "data": {
            "image/png": "[encoded data removed]",
            "text/plain": [
              "<Figure size 432x288 with 1 Axes>"
            ]
          },
          "metadata": {
            "tags": [],
            "needs_background": "light"
          }
        }
      ]
    },
    {
      "cell_type": "markdown",
      "metadata": {
        "id": "qxGih4tUCJHj"
      },
      "source": [
        "#### Fit the model"
      ]
    },
    {
      "cell_type": "code",
      "metadata": {
        "id": "qjrdDmSvCJHj",
        "outputId": "7ab0adae-6b3e-4773-b50f-ed4155aebfd0",
        "colab": {
          "base_uri": "https://localhost:8080/",
          "height": 309
        }
      },
      "source": [
        "# Fit the model\n",
        "history = model.fit(train_images[...,np.newaxis], train_labels, epochs = 8, batch_size= 256)"
      ],
      "execution_count": 79,
      "outputs": [
        {
          "output_type": "stream",
          "text": [
            "Epoch 1/8\n",
            "235/235 [==============================] - 13s 56ms/step - loss: 0.2979 - sparse_categorical_accuracy: 0.8928 - mean_absolute_error: 4.4200\n",
            "Epoch 2/8\n",
            "235/235 [==============================] - 13s 56ms/step - loss: 0.2895 - sparse_categorical_accuracy: 0.8965 - mean_absolute_error: 4.4200\n",
            "Epoch 3/8\n",
            "235/235 [==============================] - 13s 56ms/step - loss: 0.2829 - sparse_categorical_accuracy: 0.8983 - mean_absolute_error: 4.4200\n",
            "Epoch 4/8\n",
            "235/235 [==============================] - 13s 56ms/step - loss: 0.2772 - sparse_categorical_accuracy: 0.8990 - mean_absolute_error: 4.4200\n",
            "Epoch 5/8\n",
            "235/235 [==============================] - 13s 56ms/step - loss: 0.2705 - sparse_categorical_accuracy: 0.9017 - mean_absolute_error: 4.4200\n",
            "Epoch 6/8\n",
            "235/235 [==============================] - 13s 56ms/step - loss: 0.2676 - sparse_categorical_accuracy: 0.9036 - mean_absolute_error: 4.4200\n",
            "Epoch 7/8\n",
            "235/235 [==============================] - 13s 56ms/step - loss: 0.2635 - sparse_categorical_accuracy: 0.9039 - mean_absolute_error: 4.4200\n",
            "Epoch 8/8\n",
            "235/235 [==============================] - 13s 56ms/step - loss: 0.2585 - sparse_categorical_accuracy: 0.9061 - mean_absolute_error: 4.4200\n"
          ],
          "name": "stdout"
        }
      ]
    },
    {
      "cell_type": "code",
      "metadata": {
        "id": "70lVtJHczz3l"
      },
      "source": [
        ""
      ],
      "execution_count": null,
      "outputs": []
    },
    {
      "cell_type": "markdown",
      "metadata": {
        "id": "sj_9vGdDCJHl"
      },
      "source": [
        "#### Plot training history"
      ]
    },
    {
      "cell_type": "code",
      "metadata": {
        "id": "REGEflt8CJHl",
        "outputId": "bdfec3b2-5446-43e2-a08f-7cac487b55fb",
        "colab": {
          "base_uri": "https://localhost:8080/",
          "height": 204
        }
      },
      "source": [
        "# Load the history into a pandas Dataframe\n",
        "\n",
        "df = pd.DataFrame(history.history)\n",
        "df.head()"
      ],
      "execution_count": 80,
      "outputs": [
        {
          "output_type": "execute_result",
          "data": {
            "text/html": [
              "<div>\n",
              "<style scoped>\n",
              "    .dataframe tbody tr th:only-of-type {\n",
              "        vertical-align: middle;\n",
              "    }\n",
              "\n",
              "    .dataframe tbody tr th {\n",
              "        vertical-align: top;\n",
              "    }\n",
              "\n",
              "    .dataframe thead th {\n",
              "        text-align: right;\n",
              "    }\n",
              "</style>\n",
              "<table border=\"1\" class=\"dataframe\">\n",
              "  <thead>\n",
              "    <tr style=\"text-align: right;\">\n",
              "      <th></th>\n",
              "      <th>loss</th>\n",
              "      <th>sparse_categorical_accuracy</th>\n",
              "      <th>mean_absolute_error</th>\n",
              "    </tr>\n",
              "  </thead>\n",
              "  <tbody>\n",
              "    <tr>\n",
              "      <th>0</th>\n",
              "      <td>0.297900</td>\n",
              "      <td>0.892783</td>\n",
              "      <td>4.420001</td>\n",
              "    </tr>\n",
              "    <tr>\n",
              "      <th>1</th>\n",
              "      <td>0.289489</td>\n",
              "      <td>0.896517</td>\n",
              "      <td>4.420000</td>\n",
              "    </tr>\n",
              "    <tr>\n",
              "      <th>2</th>\n",
              "      <td>0.282872</td>\n",
              "      <td>0.898317</td>\n",
              "      <td>4.420000</td>\n",
              "    </tr>\n",
              "    <tr>\n",
              "      <th>3</th>\n",
              "      <td>0.277195</td>\n",
              "      <td>0.899050</td>\n",
              "      <td>4.420000</td>\n",
              "    </tr>\n",
              "    <tr>\n",
              "      <th>4</th>\n",
              "      <td>0.270454</td>\n",
              "      <td>0.901717</td>\n",
              "      <td>4.420000</td>\n",
              "    </tr>\n",
              "  </tbody>\n",
              "</table>\n",
              "</div>"
            ],
            "text/plain": [
              "       loss  sparse_categorical_accuracy  mean_absolute_error\n",
              "0  0.297900                     0.892783             4.420001\n",
              "1  0.289489                     0.896517             4.420000\n",
              "2  0.282872                     0.898317             4.420000\n",
              "3  0.277195                     0.899050             4.420000\n",
              "4  0.270454                     0.901717             4.420000"
            ]
          },
          "metadata": {
            "tags": []
          },
          "execution_count": 80
        }
      ]
    },
    {
      "cell_type": "code",
      "metadata": {
        "id": "e6_Zap-qCJHn",
        "outputId": "cbbbd0ab-88a9-46e1-e9bb-e9aa75e18844",
        "colab": {
          "base_uri": "https://localhost:8080/",
          "height": 312
        }
      },
      "source": [
        "# Make a plot for the loss\n",
        "loss_plot = df.plot(y = \"loss\", title = \"loss vs. epochs\", legend = False)\n",
        "loss_plot.set(xlabel = \"Epochs\", ylabel = \"Loss\")"
      ],
      "execution_count": 81,
      "outputs": [
        {
          "output_type": "execute_result",
          "data": {
            "text/plain": [
              "[Text(0, 0.5, 'Loss'), Text(0.5, 0, 'Epochs')]"
            ]
          },
          "metadata": {
            "tags": []
          },
          "execution_count": 81
        },
        {
          "output_type": "display_data",
          "data": {
            "image/png": "[encoded data removed]",
            "text/plain": [
              "<Figure size 432x288 with 1 Axes>"
            ]
          },
          "metadata": {
            "tags": [],
            "needs_background": "light"
          }
        }
      ]
    },
    {
      "cell_type": "code",
      "metadata": {
        "id": "sToMXsV5CJHp",
        "outputId": "ff17eca7-7677-4bac-946c-5645097d0ad7",
        "colab": {
          "base_uri": "https://localhost:8080/",
          "height": 312
        }
      },
      "source": [
        "# Make a plot for the accuracy\n",
        "\n",
        "loss_plot = df.plot(y = \"sparse_categorical_accuracy\", title = \"sparse_categorical_accuracy vs. epochs\", legend = False)\n",
        "loss_plot.set(xlabel = \"Epochs\", ylabel = \"sparse_categorical_accuracy\")"
      ],
      "execution_count": 86,
      "outputs": [
        {
          "output_type": "execute_result",
          "data": {
            "text/plain": [
              "[Text(0, 0.5, 'sparse_categorical_accuracy'), Text(0.5, 0, 'Epochs')]"
            ]
          },
          "metadata": {
            "tags": []
          },
          "execution_count": 86
        },
        {
          "output_type": "display_data",
          "data": {
            "image/png": "[encoded data removed]",
            "text/plain": [
              "<Figure size 432x288 with 1 Axes>"
            ]
          },
          "metadata": {
            "tags": [],
            "needs_background": "light"
          }
        }
      ]
    },
    {
      "cell_type": "code",
      "metadata": {
        "id": "CsjqAYm1CJHq"
      },
      "source": [
        "# Make a plot for the additional metric\n",
        "\n"
      ],
      "execution_count": null,
      "outputs": []
    },
    {
      "cell_type": "markdown",
      "metadata": {
        "id": "OMJtmN0NCJHs"
      },
      "source": [
        "***\n",
        "<a id=\"coding_tutorial_5\"></a>\n",
        "## The evaluate and predict methods"
      ]
    },
    {
      "cell_type": "code",
      "metadata": {
        "id": "GjUWLstLCJHs"
      },
      "source": [
        "import matplotlib.pyplot as plt\n",
        "import numpy as np"
      ],
      "execution_count": null,
      "outputs": []
    },
    {
      "cell_type": "markdown",
      "metadata": {
        "id": "VBS4RckkCJHu"
      },
      "source": [
        "#### Evaluate the model on the test set"
      ]
    },
    {
      "cell_type": "code",
      "metadata": {
        "id": "RUjvzBrrCJHu",
        "outputId": "82c8eb4c-fb53-44ef-df57-5c130d057c92",
        "colab": {
          "base_uri": "https://localhost:8080/",
          "height": 34
        }
      },
      "source": [
        "# Evaluate the model\n",
        "test_loss, test_accuracy, test_mae = model.evaluate(test_images[...,np.newaxis], test_labels, verbose = 2 )\n"
      ],
      "execution_count": 82,
      "outputs": [
        {
          "output_type": "stream",
          "text": [
            "313/313 - 2s - loss: 0.3186 - sparse_categorical_accuracy: 0.8879 - mean_absolute_error: 4.4200\n"
          ],
          "name": "stdout"
        }
      ]
    },
    {
      "cell_type": "markdown",
      "metadata": {
        "id": "OSUlm_0sCJHw"
      },
      "source": [
        "#### Make predictions from the model"
      ]
    },
    {
      "cell_type": "code",
      "metadata": {
        "id": "tGParddZCJHw",
        "outputId": "a3544f7e-d7ea-4af4-d0ad-50d13a6a0251",
        "colab": {
          "base_uri": "https://localhost:8080/",
          "height": 282
        }
      },
      "source": [
        "# Choose a random test image\n",
        "\n",
        "random_inx = np.random.choice(test_images.shape[0])\n",
        "\n",
        "test_image = test_images[random_inx]\n",
        "plt.imshow(test_image)\n",
        "plt.show()\n",
        "print(f\"Label: {labels[test_labels[random_inx]]}\")"
      ],
      "execution_count": 83,
      "outputs": [
        {
          "output_type": "display_data",
          "data": {
            "image/png": "[encoded data removed]",
            "text/plain": [
              "<Figure size 432x288 with 1 Axes>"
            ]
          },
          "metadata": {
            "tags": [],
            "needs_background": "light"
          }
        },
        {
          "output_type": "stream",
          "text": [
            "Label: Bag\n"
          ],
          "name": "stdout"
        }
      ]
    },
    {
      "cell_type": "code",
      "metadata": {
        "id": "t6le2hPrCJHy",
        "outputId": "e723cc17-bdb0-4773-f69c-06bbd3786d5a",
        "colab": {
          "base_uri": "https://localhost:8080/",
          "height": 68
        }
      },
      "source": [
        "# Get the model predictions\n",
        "model.predict(test_image[np.newaxis,...,np.newaxis])\n"
      ],
      "execution_count": 85,
      "outputs": [
        {
          "output_type": "execute_result",
          "data": {
            "text/plain": [
              "array([[9.2223717e-04, 2.8315280e-04, 3.2446031e-05, 1.2932470e-03,\n",
              "        1.1135304e-06, 9.2647249e-01, 5.9028207e-05, 2.5358399e-06,\n",
              "        7.0913762e-02, 1.9956373e-05]], dtype=float32)"
            ]
          },
          "metadata": {
            "tags": []
          },
          "execution_count": 85
        }
      ]
    },
    {
      "cell_type": "code",
      "metadata": {
        "id": "X-NgarXc5jrF"
      },
      "source": [
        ""
      ],
      "execution_count": null,
      "outputs": []
    }
  ]
}