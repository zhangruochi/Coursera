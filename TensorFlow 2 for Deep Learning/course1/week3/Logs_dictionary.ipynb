{
  "nbformat": 4,
  "nbformat_minor": 0,
  "metadata": {
    "kernelspec": {
      "display_name": "Python 3",
      "language": "python",
      "name": "python3"
    },
    "language_info": {
      "codemirror_mode": {
        "name": "ipython",
        "version": 3
      },
      "file_extension": ".py",
      "mimetype": "text/x-python",
      "name": "python",
      "nbconvert_exporter": "python",
      "pygments_lexer": "ipython3",
      "version": "3.7.1"
    },
    "colab": {
      "name": "Logs dictionary.ipynb",
      "provenance": []
    }
  },
  "cells": [
    {
      "cell_type": "markdown",
      "metadata": {
        "id": "PN_znHH9t_uq"
      },
      "source": [
        "# Using the logs dictionary\n",
        "\n",
        "In this reading, we will learn how to take advantage of the `logs` dictionary in Keras to define our own callbacks and check the progress of a model."
      ]
    },
    {
      "cell_type": "code",
      "metadata": {
        "id": "YPqBZzKLt_us",
        "outputId": "e65c05e5-be45-4920-baed-b1d89fb16770",
        "colab": {
          "base_uri": "https://localhost:8080/",
          "height": 34
        }
      },
      "source": [
        "import tensorflow as tf\n",
        "print(tf.__version__)"
      ],
      "execution_count": 2,
      "outputs": [
        {
          "output_type": "stream",
          "text": [
            "2.3.0\n"
          ],
          "name": "stdout"
        }
      ]
    },
    {
      "cell_type": "markdown",
      "metadata": {
        "id": "-T1ZKosHt_u0"
      },
      "source": [
        "The `logs` dictionary stores the loss value, along with all of the metrics we are using at the end of a batch or epoch.\n",
        "\n",
        "We can incorporate information from the `logs` dictionary into our own custom callbacks.\n",
        "\n",
        "Let's see this in action in the context of a model we will construct and fit to the `sklearn` diabetes dataset that we have been using in this module.\n",
        "\n",
        "Let's first import the dataset, and split it into the training and test sets."
      ]
    },
    {
      "cell_type": "code",
      "metadata": {
        "id": "qGnKxXwyt_u1"
      },
      "source": [
        "# Load the diabetes dataset\n",
        "\n",
        "from sklearn.datasets import load_diabetes\n",
        "\n",
        "diabetes_dataset = load_diabetes()"
      ],
      "execution_count": 3,
      "outputs": []
    },
    {
      "cell_type": "code",
      "metadata": {
        "id": "67t3HHCft_u6"
      },
      "source": [
        "# Save the input and target variables\n",
        "\n",
        "from sklearn.model_selection import train_test_split\n",
        "\n",
        "data = diabetes_dataset['data']\n",
        "targets = diabetes_dataset['target']"
      ],
      "execution_count": 4,
      "outputs": []
    },
    {
      "cell_type": "code",
      "metadata": {
        "id": "Vz5D7urOt_u-"
      },
      "source": [
        "# Split the data set into training and test sets\n",
        "\n",
        "train_data, test_data, train_targets, test_targets = train_test_split(data, targets, test_size=0.1)"
      ],
      "execution_count": 5,
      "outputs": []
    },
    {
      "cell_type": "markdown",
      "metadata": {
        "id": "nxZvbeBTt_vB"
      },
      "source": [
        "Now we construct our model."
      ]
    },
    {
      "cell_type": "code",
      "metadata": {
        "id": "N5brArN7t_vB"
      },
      "source": [
        "# Build the model\n",
        "\n",
        "from tensorflow.keras.models import Sequential\n",
        "from tensorflow.keras.layers import Dense\n",
        "\n",
        "model = tf.keras.Sequential([\n",
        "    Dense(128, activation='relu', input_shape=(train_data.shape[1],)),\n",
        "    Dense(64,activation='relu'),\n",
        "    tf.keras.layers.BatchNormalization(),\n",
        "    Dense(64, activation='relu'),\n",
        "    Dense(64, activation='relu'),\n",
        "    Dense(1)        \n",
        "])"
      ],
      "execution_count": 6,
      "outputs": []
    },
    {
      "cell_type": "markdown",
      "metadata": {
        "id": "6JmMdkmUt_vE"
      },
      "source": [
        "We now compile the model, with\n",
        "* Mean squared error as the loss function,\n",
        "* the Adam optimizer, and \n",
        "* Mean absolute error (`mae`) as a metric."
      ]
    },
    {
      "cell_type": "code",
      "metadata": {
        "id": "trd2GCYVt_vE"
      },
      "source": [
        "# Compile the model\n",
        "    \n",
        "model.compile(loss='mse', optimizer=\"adam\", metrics=['mae'])"
      ],
      "execution_count": 7,
      "outputs": []
    },
    {
      "cell_type": "markdown",
      "metadata": {
        "id": "vWgKs0Ojt_vG"
      },
      "source": [
        "### Defining a custom callback\n",
        "\n",
        "Now we define our custom callback using the `logs` dictionary to access the loss and metric values."
      ]
    },
    {
      "cell_type": "code",
      "metadata": {
        "id": "CxCWKKTft_vH"
      },
      "source": [
        "# Create the custom callback\n",
        "\n",
        "class LossAndMetricCallback(tf.keras.callbacks.Callback):\n",
        "\n",
        "    # Print the loss after every second batch in the training set\n",
        "    def on_train_batch_end(self, batch, logs=None):\n",
        "        if batch %2 ==0:\n",
        "            print('\\n After batch {}, the loss is {:7.2f}.'.format(batch, logs['loss']))\n",
        "    \n",
        "    # Print the loss after each batch in the test set\n",
        "    def on_test_batch_end(self, batch, logs=None):\n",
        "        print('\\n After batch {}, the loss is {:7.2f}.'.format(batch, logs['loss']))\n",
        "\n",
        "    # Print the loss and mean absolute error after each epoch\n",
        "    def on_epoch_end(self, epoch, logs=None):\n",
        "        print('Epoch {}: Average loss is {:7.2f}, mean absolute error is {:7.2f}.'.format(epoch, logs['loss'], logs['mae']))\n",
        "    \n",
        "    # Notify the user when prediction has finished on each batch\n",
        "    def on_predict_batch_end(self,batch, logs=None):\n",
        "        print(\"Finished prediction on batch {}!\".format(batch))"
      ],
      "execution_count": 9,
      "outputs": []
    },
    {
      "cell_type": "markdown",
      "metadata": {
        "id": "CIxHNty8t_vJ"
      },
      "source": [
        "We now fit the model to the data, and specify that we would like to use our custom callback `LossAndMetricCallback()`."
      ]
    },
    {
      "cell_type": "code",
      "metadata": {
        "id": "llWtxOSyt_vJ",
        "outputId": "10d5c856-2cce-4842-8eec-204d1153e930",
        "colab": {
          "base_uri": "https://localhost:8080/",
          "height": 1000
        }
      },
      "source": [
        "# Train the model\n",
        "\n",
        "history = model.fit(train_data, train_targets, epochs=20,\n",
        "                    batch_size=100, callbacks=[LossAndMetricCallback()], verbose=False)"
      ],
      "execution_count": 10,
      "outputs": [
        {
          "output_type": "stream",
          "text": [
            "\n",
            " After batch 0, the loss is 30242.25.\n",
            "\n",
            " After batch 2, the loss is 30713.94.\n",
            "Epoch 0: Average loss is 29973.79, mean absolute error is  155.09.\n",
            "\n",
            " After batch 0, the loss is 29144.86.\n",
            "\n",
            " After batch 2, the loss is 29020.50.\n",
            "Epoch 1: Average loss is 29884.40, mean absolute error is  154.83.\n",
            "\n",
            " After batch 0, the loss is 28957.74.\n",
            "\n",
            " After batch 2, the loss is 28702.82.\n",
            "Epoch 2: Average loss is 29767.93, mean absolute error is  154.50.\n",
            "\n",
            " After batch 0, the loss is 29503.51.\n",
            "\n",
            " After batch 2, the loss is 30742.59.\n",
            "Epoch 3: Average loss is 29585.31, mean absolute error is  153.98.\n",
            "\n",
            " After batch 0, the loss is 29288.35.\n",
            "\n",
            " After batch 2, the loss is 29272.23.\n",
            "Epoch 4: Average loss is 29312.09, mean absolute error is  153.21.\n",
            "\n",
            " After batch 0, the loss is 25907.77.\n",
            "\n",
            " After batch 2, the loss is 28708.12.\n",
            "Epoch 5: Average loss is 28908.56, mean absolute error is  152.10.\n",
            "\n",
            " After batch 0, the loss is 23374.96.\n",
            "\n",
            " After batch 2, the loss is 28003.15.\n",
            "Epoch 6: Average loss is 28341.11, mean absolute error is  150.53.\n",
            "\n",
            " After batch 0, the loss is 29994.97.\n",
            "\n",
            " After batch 2, the loss is 26704.54.\n",
            "Epoch 7: Average loss is 27598.49, mean absolute error is  148.43.\n",
            "\n",
            " After batch 0, the loss is 29333.44.\n",
            "\n",
            " After batch 2, the loss is 26603.02.\n",
            "Epoch 8: Average loss is 26608.07, mean absolute error is  145.62.\n",
            "\n",
            " After batch 0, the loss is 28022.99.\n",
            "\n",
            " After batch 2, the loss is 25518.47.\n",
            "Epoch 9: Average loss is 25389.99, mean absolute error is  142.04.\n",
            "\n",
            " After batch 0, the loss is 23486.32.\n",
            "\n",
            " After batch 2, the loss is 23853.35.\n",
            "Epoch 10: Average loss is 23873.55, mean absolute error is  137.48.\n",
            "\n",
            " After batch 0, the loss is 21488.78.\n",
            "\n",
            " After batch 2, the loss is 21880.46.\n",
            "Epoch 11: Average loss is 22161.62, mean absolute error is  132.07.\n",
            "\n",
            " After batch 0, the loss is 20747.64.\n",
            "\n",
            " After batch 2, the loss is 20735.97.\n",
            "Epoch 12: Average loss is 20172.53, mean absolute error is  125.17.\n",
            "\n",
            " After batch 0, the loss is 17090.08.\n",
            "\n",
            " After batch 2, the loss is 18208.37.\n",
            "Epoch 13: Average loss is 17874.75, mean absolute error is  117.09.\n",
            "\n",
            " After batch 0, the loss is 16060.48.\n",
            "\n",
            " After batch 2, the loss is 15922.31.\n",
            "Epoch 14: Average loss is 15504.87, mean absolute error is  107.42.\n",
            "\n",
            " After batch 0, the loss is 13906.21.\n",
            "\n",
            " After batch 2, the loss is 13693.71.\n",
            "Epoch 15: Average loss is 13109.32, mean absolute error is   96.18.\n",
            "\n",
            " After batch 0, the loss is 11419.44.\n",
            "\n",
            " After batch 2, the loss is 11983.92.\n",
            "Epoch 16: Average loss is 11019.40, mean absolute error is   84.96.\n",
            "\n",
            " After batch 0, the loss is 8467.23.\n",
            "\n",
            " After batch 2, the loss is 9131.52.\n",
            "Epoch 17: Average loss is 8810.49, mean absolute error is   75.03.\n",
            "\n",
            " After batch 0, the loss is 8152.40.\n",
            "\n",
            " After batch 2, the loss is 7041.12.\n",
            "Epoch 18: Average loss is 7188.89, mean absolute error is   66.89.\n",
            "\n",
            " After batch 0, the loss is 6077.00.\n",
            "\n",
            " After batch 2, the loss is 6214.96.\n",
            "Epoch 19: Average loss is 6394.31, mean absolute error is   61.34.\n"
          ],
          "name": "stdout"
        }
      ]
    },
    {
      "cell_type": "markdown",
      "metadata": {
        "id": "JWTaXxTKt_vL"
      },
      "source": [
        "We can also use our callback in the `evaluate` function..."
      ]
    },
    {
      "cell_type": "code",
      "metadata": {
        "id": "pCNIYMyBt_vL",
        "outputId": "00b3080e-a407-4f2c-e5a5-dcb948ccaff5",
        "colab": {
          "base_uri": "https://localhost:8080/",
          "height": 187
        }
      },
      "source": [
        "# Evaluate the model\n",
        "\n",
        "model_eval = model.evaluate(test_data, test_targets, batch_size=10, \n",
        "                            callbacks=[LossAndMetricCallback()], verbose=False)"
      ],
      "execution_count": 11,
      "outputs": [
        {
          "output_type": "stream",
          "text": [
            "\n",
            " After batch 0, the loss is 9097.40.\n",
            "\n",
            " After batch 1, the loss is 16666.36.\n",
            "\n",
            " After batch 2, the loss is 14728.73.\n",
            "\n",
            " After batch 3, the loss is 12867.68.\n",
            "\n",
            " After batch 4, the loss is 12409.50.\n"
          ],
          "name": "stdout"
        }
      ]
    },
    {
      "cell_type": "markdown",
      "metadata": {
        "id": "o0YFz-cYt_vO"
      },
      "source": [
        "...And also the `predict` function."
      ]
    },
    {
      "cell_type": "code",
      "metadata": {
        "id": "1oqlUx5Rt_vO",
        "outputId": "200d21aa-a4a5-4e93-ebea-c3ea870f9736",
        "colab": {
          "base_uri": "https://localhost:8080/",
          "height": 102
        }
      },
      "source": [
        "# Get predictions from the model\n",
        "\n",
        "model_pred = model.predict(test_data, batch_size=10,\n",
        "                           callbacks=[LossAndMetricCallback()], verbose=False)"
      ],
      "execution_count": 12,
      "outputs": [
        {
          "output_type": "stream",
          "text": [
            "Finished prediction on batch 0!\n",
            "Finished prediction on batch 1!\n",
            "Finished prediction on batch 2!\n",
            "Finished prediction on batch 3!\n",
            "Finished prediction on batch 4!\n"
          ],
          "name": "stdout"
        }
      ]
    },
    {
      "cell_type": "markdown",
      "metadata": {
        "id": "s8_h_KaVt_vP"
      },
      "source": [
        "### Application - learning rate scheduler\n",
        "Let's now look at a more sophisticated custom callback. \n",
        "\n",
        "We are going to define a callback to change the learning rate of the optimiser of a model during training. We will do this by specifying the epochs and new learning rates where we would like it to be changed.\n",
        "\n",
        "First we define the auxillary function that returns the learning rate for each epoch based on our schedule."
      ]
    },
    {
      "cell_type": "code",
      "metadata": {
        "id": "6aTIeSR1t_vQ"
      },
      "source": [
        "# Define the learning rate schedule. The tuples below are (start_epoch, new_learning_rate)\n",
        "\n",
        "lr_schedule = [\n",
        "    (4, 0.03), (7, 0.02), (11, 0.005), (15, 0.007)\n",
        "]\n",
        "\n",
        "def get_new_epoch_lr(epoch, lr):\n",
        "    # Checks to see if the input epoch is listed in the learning rate schedule \n",
        "    # and if so, returns index in lr_schedule\n",
        "    epoch_in_sched = [i for i in range(len(lr_schedule)) if lr_schedule[i][0]==int(epoch)]\n",
        "    if len(epoch_in_sched)>0:\n",
        "        # If it is, return the learning rate corresponding to the epoch\n",
        "        return lr_schedule[epoch_in_sched[0]][1]\n",
        "    else:\n",
        "        # Otherwise, return the existing learning rate\n",
        "        return lr"
      ],
      "execution_count": 13,
      "outputs": []
    },
    {
      "cell_type": "markdown",
      "metadata": {
        "id": "K0pkwJqOt_vR"
      },
      "source": [
        "Let's now define the callback itself."
      ]
    },
    {
      "cell_type": "code",
      "metadata": {
        "id": "kjmpb1Htt_vS"
      },
      "source": [
        "# Define the custom callback\n",
        "\n",
        "class LRScheduler(tf.keras.callbacks.Callback):\n",
        "    \n",
        "    def __init__(self, new_lr):\n",
        "        super(LRScheduler, self).__init__()\n",
        "        # Add the new learning rate function to our callback\n",
        "        self.new_lr = new_lr\n",
        "\n",
        "    def on_epoch_begin(self, epoch, logs=None):\n",
        "        # Make sure that the optimizer we have chosen has a learning rate, and raise an error if not\n",
        "        if not hasattr(self.model.optimizer, 'lr'):\n",
        "              raise ValueError('Error: Optimizer does not have a learning rate.')\n",
        "                \n",
        "        # Get the current learning rate\n",
        "        curr_rate = float(tf.keras.backend.get_value(self.model.optimizer.lr))\n",
        "        \n",
        "        # Call the auxillary function to get the scheduled learning rate for the current epoch\n",
        "        scheduled_rate = self.new_lr(epoch, curr_rate)\n",
        "\n",
        "        # Set the learning rate to the scheduled learning rate\n",
        "        tf.keras.backend.set_value(self.model.optimizer.lr, scheduled_rate)\n",
        "        print('Learning rate for epoch {} is {:7.3f}'.format(epoch, scheduled_rate))"
      ],
      "execution_count": null,
      "outputs": []
    },
    {
      "cell_type": "markdown",
      "metadata": {
        "id": "KWNPcksYt_vT"
      },
      "source": [
        "Let's now train the model again with our new callback. "
      ]
    },
    {
      "cell_type": "code",
      "metadata": {
        "id": "LysLBXwit_vU"
      },
      "source": [
        "# Build the same model as before\n",
        "\n",
        "new_model = tf.keras.Sequential([\n",
        "    Dense(128, activation='relu', input_shape=(train_data.shape[1],)),\n",
        "    Dense(64,activation='relu'),\n",
        "    tf.keras.layers.BatchNormalization(),\n",
        "    Dense(64, activation='relu'),\n",
        "    Dense(64, activation='relu'),\n",
        "    Dense(1)        \n",
        "])"
      ],
      "execution_count": null,
      "outputs": []
    },
    {
      "cell_type": "code",
      "metadata": {
        "id": "gzTlyQUqt_vV"
      },
      "source": [
        "# Compile the model\n",
        "\n",
        "new_model.compile(loss='mse',\n",
        "                optimizer=\"adam\",\n",
        "                metrics=['mae', 'mse'])"
      ],
      "execution_count": null,
      "outputs": []
    },
    {
      "cell_type": "code",
      "metadata": {
        "id": "miVlB1Xtt_vX"
      },
      "source": [
        "# Fit the model with our learning rate scheduler callback\n",
        "\n",
        "new_history = new_model.fit(train_data, train_targets, epochs=20,\n",
        "                            batch_size=100, callbacks=[LRScheduler(get_new_epoch_lr)], verbose=False)"
      ],
      "execution_count": null,
      "outputs": []
    },
    {
      "cell_type": "markdown",
      "metadata": {
        "id": "m4TP_GGBt_vY"
      },
      "source": [
        "### Further reading and resources\n",
        "* https://www.tensorflow.org/guide/keras/custom_callback\n",
        "* https://www.tensorflow.org/api_docs/python/tf/keras/callbacks/Callback"
      ]
    }
  ]
}